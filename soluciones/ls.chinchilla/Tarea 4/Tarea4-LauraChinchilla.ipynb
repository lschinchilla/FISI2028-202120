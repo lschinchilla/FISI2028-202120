{
 "cells": [
  {
   "cell_type": "code",
   "execution_count": 1,
   "id": "6ffa6777-0b1c-40e6-80c2-267c1a926e69",
   "metadata": {},
   "outputs": [
    {
     "name": "stdout",
     "output_type": "stream",
     "text": [
      "Populating the interactive namespace from numpy and matplotlib\n"
     ]
    }
   ],
   "source": [
    "%pylab inline"
   ]
  },
  {
   "cell_type": "code",
   "execution_count": 2,
   "id": "0a40a9af",
   "metadata": {},
   "outputs": [],
   "source": [
    "import numpy as np\n",
    "import pandas as pd\n",
    "import scipy as sp\n",
    "import sklearn as sl\n",
    "\n",
    "import seaborn as sns; sns.set()\n",
    "import matplotlib as mpl\n",
    "from matplotlib import pyplot as plt\n",
    "from mpl_toolkits.mplot3d import axes3d\n",
    "from matplotlib import cm\n",
    "%matplotlib inline"
   ]
  },
  {
   "cell_type": "code",
   "execution_count": 3,
   "id": "39612841-8e04-4c80-bcc1-a0f8d7980f35",
   "metadata": {},
   "outputs": [],
   "source": [
    "from scipy import integrate"
   ]
  },
  {
   "cell_type": "markdown",
   "id": "d52f994c",
   "metadata": {},
   "source": [
    "# (A) Integrales"
   ]
  },
  {
   "cell_type": "code",
   "execution_count": 4,
   "id": "1ea25c15",
   "metadata": {},
   "outputs": [],
   "source": [
    "x1 = np.linspace(1e-06,1,int(1e+06)) \n",
    "x2 = np.linspace(1e-06,100,int(1e+06))"
   ]
  },
  {
   "cell_type": "code",
   "execution_count": 5,
   "id": "9aaf147b",
   "metadata": {},
   "outputs": [],
   "source": [
    "def fun1(x):\n",
    "    return x**(-1/2)"
   ]
  },
  {
   "cell_type": "code",
   "execution_count": 6,
   "id": "a8dae9d6",
   "metadata": {},
   "outputs": [],
   "source": [
    "def fun2(x):\n",
    "    return e**(-x)"
   ]
  },
  {
   "cell_type": "code",
   "execution_count": 7,
   "id": "22c43562",
   "metadata": {},
   "outputs": [],
   "source": [
    "def fun3(x):\n",
    "    return sin(x)/x"
   ]
  },
  {
   "cell_type": "code",
   "execution_count": 8,
   "id": "d36483fc",
   "metadata": {},
   "outputs": [],
   "source": [
    "y1 = fun1(x1)"
   ]
  },
  {
   "cell_type": "code",
   "execution_count": 9,
   "id": "0dffd2d9",
   "metadata": {},
   "outputs": [],
   "source": [
    "y2 = fun2(x2)"
   ]
  },
  {
   "cell_type": "code",
   "execution_count": 10,
   "id": "1e0779de",
   "metadata": {},
   "outputs": [],
   "source": [
    "y3 = fun3(x2)"
   ]
  },
  {
   "cell_type": "code",
   "execution_count": 11,
   "id": "c6a51b92",
   "metadata": {},
   "outputs": [
    {
     "name": "stdout",
     "output_type": "stream",
     "text": [
      "Primera integral 1.9980152377229563\n"
     ]
    }
   ],
   "source": [
    "print(\"Primera integral\",sp.integrate.simpson(y1, x1))"
   ]
  },
  {
   "cell_type": "code",
   "execution_count": 12,
   "id": "375d4a09",
   "metadata": {},
   "outputs": [
    {
     "name": "stdout",
     "output_type": "stream",
     "text": [
      "Segunda integral 0.9999990000005418\n"
     ]
    }
   ],
   "source": [
    "print(\"Segunda integral\",sp.integrate.simpson(y2, x2))"
   ]
  },
  {
   "cell_type": "code",
   "execution_count": 13,
   "id": "b9ef7b5a",
   "metadata": {},
   "outputs": [
    {
     "name": "stdout",
     "output_type": "stream",
     "text": [
      "Tercera integral 1.5622244668890422\n"
     ]
    }
   ],
   "source": [
    "print(\"Tercera integral\",sp.integrate.simpson(y3, x2))"
   ]
  },
  {
   "cell_type": "markdown",
   "id": "ed295b2f",
   "metadata": {},
   "source": [
    "# (B) Fourier "
   ]
  },
  {
   "cell_type": "code",
   "execution_count": 14,
   "id": "6c0bb2df",
   "metadata": {},
   "outputs": [],
   "source": [
    "#Transformada usando la funcion Tarea D) "
   ]
  },
  {
   "cell_type": "code",
   "execution_count": 15,
   "id": "06ef14a4-7ee8-452c-a6cd-b5490d96afa3",
   "metadata": {},
   "outputs": [],
   "source": [
    "a = 0.68739888 \n",
    "b = 1.39239105 \n",
    "c = 0.49564803 \n",
    "omega = 0.936637  "
   ]
  },
  {
   "cell_type": "code",
   "execution_count": 16,
   "id": "d8174ee1",
   "metadata": {},
   "outputs": [],
   "source": [
    "df = pd.read_pickle(r\"C:\\Users\\Laura\\Downloads\\ex1.gz\")"
   ]
  },
  {
   "cell_type": "code",
   "execution_count": 17,
   "id": "3270788a-58fb-415e-ac80-dbd87730532e",
   "metadata": {},
   "outputs": [],
   "source": [
    "x = df[\"x\"]"
   ]
  },
  {
   "cell_type": "code",
   "execution_count": 18,
   "id": "878c440a",
   "metadata": {},
   "outputs": [],
   "source": [
    "y_ = df[\"y\"]"
   ]
  },
  {
   "cell_type": "code",
   "execution_count": 19,
   "id": "38eb6a88-04c3-41da-85ef-f5d607293640",
   "metadata": {},
   "outputs": [],
   "source": [
    "y = a/((x-b)**2 + c)**omega"
   ]
  },
  {
   "cell_type": "code",
   "execution_count": 20,
   "id": "03a416d7-6042-4ef0-9597-ad1df7e7c0c7",
   "metadata": {},
   "outputs": [],
   "source": [
    "Nf = 25\n",
    "a = np.min(x)\n",
    "b = np.max(x)\n",
    "def a_j(j):\n",
    "    global a, b, x, y\n",
    "    # integra la funcion entre 0 y 10\n",
    "    L = b - a\n",
    "    k_j = 2*j*np.pi/L\n",
    "    new_y = y*np.cos(k_j*x)/L\n",
    "    if j > 0:\n",
    "        new_y = new_y * 2\n",
    "    return sp.integrate.simpson(new_y, x)\n",
    "def b_j(j):\n",
    "    global a, b, x, y\n",
    "    # integra la funcion entre 0 y 10\n",
    "    L = b - a\n",
    "    k_j = 2*j*np.pi/L\n",
    "    new_y = y*np.sin(k_j*x)/L\n",
    "    if j > 0:\n",
    "        new_y = new_y * 2\n",
    "    return sp.integrate.simpson(new_y, x)\n",
    "J = np.array(range(Nf))\n",
    "A_j = np.array([a_j(j) for j in range(Nf)])\n",
    "B_j = np.array([b_j(j) for j in range(Nf)])"
   ]
  },
  {
   "cell_type": "code",
   "execution_count": 21,
   "id": "df87c44f-bd29-4940-9201-3319c137b7c5",
   "metadata": {},
   "outputs": [
    {
     "data": {
      "text/plain": [
       "array([ 0.58187845, -0.33444516, -0.07417718,  0.0294868 , -0.03051049,\n",
       "       -0.0084893 , -0.01000459, -0.02587848,  0.01598463, -0.03242595,\n",
       "       -0.02697855, -0.00198519, -0.0542143 ,  0.08751044, -0.05261719,\n",
       "        0.05398262,  0.09744844, -0.19508638,  0.11948278,  0.05451492,\n",
       "       -0.19875167,  0.07693424, -0.01001765,  0.04095636,  0.03025459])"
      ]
     },
     "execution_count": 21,
     "metadata": {},
     "output_type": "execute_result"
    }
   ],
   "source": [
    "A_j"
   ]
  },
  {
   "cell_type": "code",
   "execution_count": 22,
   "id": "4dde856c-d8f2-4c8d-b3ff-1d062b0860c9",
   "metadata": {},
   "outputs": [
    {
     "data": {
      "text/plain": [
       "array([ 0.        ,  0.4225906 , -0.1190738 ,  0.03227525,  0.02094597,\n",
       "        0.00145533,  0.01407725, -0.00934128,  0.01022793,  0.03637447,\n",
       "       -0.05860388,  0.05446867, -0.05251547, -0.02034912,  0.06707885,\n",
       "       -0.06633479,  0.0763615 ,  0.07642617, -0.10730971,  0.14887532,\n",
       "       -0.08507877,  0.00759668,  0.00760226, -0.09926775,  0.09805382])"
      ]
     },
     "execution_count": 22,
     "metadata": {},
     "output_type": "execute_result"
    }
   ],
   "source": [
    "B_j"
   ]
  },
  {
   "cell_type": "code",
   "execution_count": 23,
   "id": "c4fe0640-a18d-4c96-8ed9-92a5f08f66c6",
   "metadata": {},
   "outputs": [],
   "source": [
    "x_tilde = np.linspace(0,4,10000)\n",
    "k_j = np.array([2*j*np.pi/4 for j in range(Nf)])\n",
    "y_tilde = np.sum([\n",
    "    A_j[j] * np.cos(k_j[j]*x_tilde) + B_j[j] * np.sin(k_j[j]*x_tilde) for j in range(Nf)\n",
    "], axis=0)"
   ]
  },
  {
   "cell_type": "code",
   "execution_count": 24,
   "id": "0fe2684c-d7e6-4c51-b612-71495a472096",
   "metadata": {},
   "outputs": [
    {
     "data": {
      "text/plain": [
       "<matplotlib.collections.PathCollection at 0x22dc446ee20>"
      ]
     },
     "execution_count": 24,
     "metadata": {},
     "output_type": "execute_result"
    },
    {
     "data": {
      "image/png": "[encoded data removed]",
      "text/plain": [
       "<Figure size 432x288 with 1 Axes>"
      ]
     },
     "metadata": {
      "needs_background": "light"
     },
     "output_type": "display_data"
    }
   ],
   "source": [
    "plot(x_tilde,y_tilde)\n",
    "scatter(x,y_)"
   ]
  },
  {
   "cell_type": "code",
   "execution_count": 25,
   "id": "53f452dd",
   "metadata": {},
   "outputs": [],
   "source": [
    "#Transformada usando el metodod de regresion exacta "
   ]
  },
  {
   "cell_type": "code",
   "execution_count": 26,
   "id": "95df61c3",
   "metadata": {},
   "outputs": [],
   "source": [
    "L = max(x) - min(x)"
   ]
  },
  {
   "cell_type": "code",
   "execution_count": 27,
   "id": "8d9177c0-5d9f-4a3d-8f3a-5b7e5e9f83d3",
   "metadata": {},
   "outputs": [],
   "source": [
    "x_newbase2 = np.array(x).reshape(-1,1)"
   ]
  },
  {
   "cell_type": "code",
   "execution_count": 28,
   "id": "37d40204",
   "metadata": {},
   "outputs": [],
   "source": [
    "y_newbase2 = np.array(y_)"
   ]
  },
  {
   "cell_type": "code",
   "execution_count": 29,
   "id": "74d06721",
   "metadata": {},
   "outputs": [
    {
     "data": {
      "text/plain": [
       "100"
      ]
     },
     "execution_count": 29,
     "metadata": {},
     "output_type": "execute_result"
    }
   ],
   "source": [
    "len(x_newbase2)"
   ]
  },
  {
   "cell_type": "code",
   "execution_count": 30,
   "id": "aa65fcd6",
   "metadata": {},
   "outputs": [],
   "source": [
    "P = np.array([np.ones([len(x), 1]),\n",
    "              cos((2*pi/L)*x_newbase2),\n",
    "              sin((2*pi/L)*x_newbase2),\n",
    "              cos((2*pi/L)*2*x_newbase2),\n",
    "              sin((2*pi/L)*2*x_newbase2),\n",
    "              cos((2*pi/L)*3*x_newbase2),\n",
    "              sin((2*pi/L)*3*x_newbase2),\n",
    "              cos((2*pi/L)*4*x_newbase2),\n",
    "              sin((2*pi/L)*4*x_newbase2),\n",
    "              cos((2*pi/L)*5*x_newbase2),\n",
    "              sin((2*pi/L)*5*x_newbase2)]).reshape(11, len(x)).T"
   ]
  },
  {
   "cell_type": "code",
   "execution_count": 31,
   "id": "267f2b42",
   "metadata": {},
   "outputs": [
    {
     "data": {
      "text/plain": [
       "array([1.        , 0.99461517, 0.10363717, 0.97851867, 0.2061582 ,\n",
       "       0.95188387, 0.30645898, 0.91499759, 0.4034593 , 0.86825711,\n",
       "       0.4961145 ])"
      ]
     },
     "execution_count": 31,
     "metadata": {},
     "output_type": "execute_result"
    }
   ],
   "source": [
    "P[0]"
   ]
  },
  {
   "cell_type": "code",
   "execution_count": 32,
   "id": "5e3579f3",
   "metadata": {},
   "outputs": [],
   "source": [
    "v = np.linalg.inv(P.T @ P) @ P.T @ y"
   ]
  },
  {
   "cell_type": "code",
   "execution_count": 33,
   "id": "a6306846",
   "metadata": {},
   "outputs": [
    {
     "data": {
      "text/plain": [
       "11"
      ]
     },
     "execution_count": 33,
     "metadata": {},
     "output_type": "execute_result"
    }
   ],
   "source": [
    "len(v)"
   ]
  },
  {
   "cell_type": "code",
   "execution_count": 34,
   "id": "fe8f346e",
   "metadata": {},
   "outputs": [],
   "source": [
    "def fun_(x,a,b,c,d,e,f,g,h,i,j,k):\n",
    "    global L\n",
    "    return(\n",
    "        a  \n",
    "        +b*cos((2*pi/L)*x_newbase2)\n",
    "        +c*sin((2*pi/L)*x_newbase2)\n",
    "        +d*cos((2*pi/L)*2*x_newbase2)\n",
    "        +e*sin((2*pi/L)*2*x_newbase2)\n",
    "        +f*cos((2*pi/L)*3*x_newbase2)\n",
    "        +g*sin((2*pi/L)*3*x_newbase2)\n",
    "        +h*cos((2*pi/L)*4*x_newbase2)\n",
    "        +i*sin((2*pi/L)*4*x_newbase2)\n",
    "        +j*cos((2*pi/L)*5*x_newbase2)\n",
    "        +k*sin((2*pi/L)*5*x_newbase2)\n",
    "    \n",
    "    \n",
    "    )"
   ]
  },
  {
   "cell_type": "code",
   "execution_count": 38,
   "id": "ca2149d5",
   "metadata": {},
   "outputs": [],
   "source": [
    "y_real_ = fun_(x,v[0],v[1],v[2],v[3],v[4],v[5],v[6],v[7],v[8],v[9],v[10])"
   ]
  },
  {
   "cell_type": "code",
   "execution_count": 41,
   "id": "60d92a73",
   "metadata": {},
   "outputs": [
    {
     "data": {
      "text/plain": [
       "<matplotlib.collections.PathCollection at 0x22dc6613b80>"
      ]
     },
     "execution_count": 41,
     "metadata": {},
     "output_type": "execute_result"
    },
    {
     "data": {
      "image/png": "[encoded data removed]",
      "text/plain": [
       "<Figure size 432x288 with 1 Axes>"
      ]
     },
     "metadata": {
      "needs_background": "light"
     },
     "output_type": "display_data"
    }
   ],
   "source": [
    "plot(x,y_real_)\n",
    "scatter(x,y_)"
   ]
  },
  {
   "cell_type": "code",
   "execution_count": null,
   "id": "cde658f8",
   "metadata": {},
   "outputs": [],
   "source": []
  }
 ],
 "metadata": {
  "kernelspec": {
   "display_name": "Python 3",
   "language": "python",
   "name": "python3"
  },
  "language_info": {
   "codemirror_mode": {
    "name": "ipython",
    "version": 3
   },
   "file_extension": ".py",
   "mimetype": "text/x-python",
   "name": "python",
   "nbconvert_exporter": "python",
   "pygments_lexer": "ipython3",
   "version": "3.8.8"
  }
 },
 "nbformat": 4,
 "nbformat_minor": 5
}
