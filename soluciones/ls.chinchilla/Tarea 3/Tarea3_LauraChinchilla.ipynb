{
 "cells": [
  {
   "cell_type": "code",
   "execution_count": 1,
   "id": "43f88c1b",
   "metadata": {},
   "outputs": [],
   "source": [
    "import numpy as np\n",
    "import pandas as pd\n",
    "import scipy as sp\n",
    "import sklearn as sl\n",
    "\n",
    "import seaborn as sns; sns.set()\n",
    "import matplotlib as mpl\n",
    "from matplotlib import pyplot as plt\n",
    "from mpl_toolkits.mplot3d import axes3d\n",
    "from matplotlib import cm\n",
    "%matplotlib inline"
   ]
  },
  {
   "cell_type": "code",
   "execution_count": 2,
   "id": "00bf67ce",
   "metadata": {},
   "outputs": [],
   "source": [
    "df = pd.read_pickle(r\"C:\\Users\\Laura\\Downloads\\ex1.gz\")"
   ]
  },
  {
   "cell_type": "code",
   "execution_count": 3,
   "id": "f266dec1",
   "metadata": {},
   "outputs": [
    {
     "data": {
      "image/png": "[encoded data removed]",
      "text/plain": [
       "<Figure size 432x288 with 1 Axes>"
      ]
     },
     "metadata": {
      "needs_background": "light"
     },
     "output_type": "display_data"
    },
    {
     "data": {
      "text/html": [
       "<div>\n",
       "<style scoped>\n",
       "    .dataframe tbody tr th:only-of-type {\n",
       "        vertical-align: middle;\n",
       "    }\n",
       "\n",
       "    .dataframe tbody tr th {\n",
       "        vertical-align: top;\n",
       "    }\n",
       "\n",
       "    .dataframe thead th {\n",
       "        text-align: right;\n",
       "    }\n",
       "</style>\n",
       "<table border=\"1\" class=\"dataframe\">\n",
       "  <thead>\n",
       "    <tr style=\"text-align: right;\">\n",
       "      <th></th>\n",
       "      <th>x</th>\n",
       "      <th>y</th>\n",
       "    </tr>\n",
       "  </thead>\n",
       "  <tbody>\n",
       "    <tr>\n",
       "      <th>0</th>\n",
       "      <td>0.065859</td>\n",
       "      <td>0.277413</td>\n",
       "    </tr>\n",
       "    <tr>\n",
       "      <th>1</th>\n",
       "      <td>0.020931</td>\n",
       "      <td>0.202239</td>\n",
       "    </tr>\n",
       "    <tr>\n",
       "      <th>2</th>\n",
       "      <td>0.070312</td>\n",
       "      <td>0.307369</td>\n",
       "    </tr>\n",
       "    <tr>\n",
       "      <th>3</th>\n",
       "      <td>0.206166</td>\n",
       "      <td>0.367530</td>\n",
       "    </tr>\n",
       "    <tr>\n",
       "      <th>4</th>\n",
       "      <td>0.286572</td>\n",
       "      <td>0.491144</td>\n",
       "    </tr>\n",
       "    <tr>\n",
       "      <th>...</th>\n",
       "      <td>...</td>\n",
       "      <td>...</td>\n",
       "    </tr>\n",
       "    <tr>\n",
       "      <th>95</th>\n",
       "      <td>3.922613</td>\n",
       "      <td>0.225565</td>\n",
       "    </tr>\n",
       "    <tr>\n",
       "      <th>96</th>\n",
       "      <td>3.898473</td>\n",
       "      <td>0.000000</td>\n",
       "    </tr>\n",
       "    <tr>\n",
       "      <th>97</th>\n",
       "      <td>3.952111</td>\n",
       "      <td>0.141005</td>\n",
       "    </tr>\n",
       "    <tr>\n",
       "      <th>98</th>\n",
       "      <td>3.939211</td>\n",
       "      <td>0.115500</td>\n",
       "    </tr>\n",
       "    <tr>\n",
       "      <th>99</th>\n",
       "      <td>3.987120</td>\n",
       "      <td>0.048689</td>\n",
       "    </tr>\n",
       "  </tbody>\n",
       "</table>\n",
       "<p>100 rows × 2 columns</p>\n",
       "</div>"
      ],
      "text/plain": [
       "           x         y\n",
       "0   0.065859  0.277413\n",
       "1   0.020931  0.202239\n",
       "2   0.070312  0.307369\n",
       "3   0.206166  0.367530\n",
       "4   0.286572  0.491144\n",
       "..       ...       ...\n",
       "95  3.922613  0.225565\n",
       "96  3.898473  0.000000\n",
       "97  3.952111  0.141005\n",
       "98  3.939211  0.115500\n",
       "99  3.987120  0.048689\n",
       "\n",
       "[100 rows x 2 columns]"
      ]
     },
     "execution_count": 3,
     "metadata": {},
     "output_type": "execute_result"
    }
   ],
   "source": [
    "sns.scatterplot(x='x',y='y',data=df)\n",
    "plt.show()\n",
    "df"
   ]
  },
  {
   "cell_type": "code",
   "execution_count": 4,
   "id": "c4cf7b47",
   "metadata": {},
   "outputs": [],
   "source": [
    "x = df[\"x\"]"
   ]
  },
  {
   "cell_type": "code",
   "execution_count": 5,
   "id": "ab662ccb",
   "metadata": {},
   "outputs": [],
   "source": [
    "y = df[\"y\"]"
   ]
  },
  {
   "cell_type": "markdown",
   "id": "0f797463",
   "metadata": {},
   "source": [
    "## (a) Pendiente e intercepto "
   ]
  },
  {
   "cell_type": "code",
   "execution_count": 6,
   "id": "6b91fd8c",
   "metadata": {},
   "outputs": [],
   "source": [
    "x_ = []\n",
    "y_ = []"
   ]
  },
  {
   "cell_type": "code",
   "execution_count": 7,
   "id": "5575cf5f",
   "metadata": {},
   "outputs": [],
   "source": [
    "for i in range(len(x)):\n",
    "    if(0<=x[i]<=1.5):\n",
    "        x_.append(x[i])\n",
    "        y_.append(y[i])"
   ]
  },
  {
   "cell_type": "code",
   "execution_count": 8,
   "id": "b3483012",
   "metadata": {},
   "outputs": [],
   "source": [
    "x_new = np.array(x_)\n",
    "y_new = np.array(y_)"
   ]
  },
  {
   "cell_type": "code",
   "execution_count": 9,
   "id": "13945343",
   "metadata": {},
   "outputs": [],
   "source": [
    "from scipy.optimize import curve_fit"
   ]
  },
  {
   "cell_type": "code",
   "execution_count": 10,
   "id": "115b5089",
   "metadata": {},
   "outputs": [],
   "source": [
    "def fun(x,a,b):\n",
    "    return a*x + b"
   ]
  },
  {
   "cell_type": "code",
   "execution_count": 11,
   "id": "5692361a",
   "metadata": {},
   "outputs": [],
   "source": [
    "popt, pcov = curve_fit(fun, x_new, y_new)"
   ]
  },
  {
   "cell_type": "code",
   "execution_count": 12,
   "id": "2bc99ce4",
   "metadata": {},
   "outputs": [],
   "source": [
    "data_ = fun(x_new,popt[0],popt[1])"
   ]
  },
  {
   "cell_type": "code",
   "execution_count": 13,
   "id": "6bad9134",
   "metadata": {},
   "outputs": [
    {
     "data": {
      "text/plain": [
       "[<matplotlib.lines.Line2D at 0x18455458520>]"
      ]
     },
     "execution_count": 13,
     "metadata": {},
     "output_type": "execute_result"
    },
    {
     "data": {
      "image/png": "[encoded data removed]",
      "text/plain": [
       "<Figure size 432x288 with 1 Axes>"
      ]
     },
     "metadata": {
      "needs_background": "light"
     },
     "output_type": "display_data"
    }
   ],
   "source": [
    "plt.scatter(x_new,y_new)\n",
    "plt.plot(x_new,data_)"
   ]
  },
  {
   "cell_type": "code",
   "execution_count": 14,
   "id": "3bfe810a",
   "metadata": {},
   "outputs": [
    {
     "name": "stdout",
     "output_type": "stream",
     "text": [
      "El valor de la pendiente es: 0.8163869624029936\n"
     ]
    }
   ],
   "source": [
    "print(\"El valor de la pendiente es:\",popt[0])"
   ]
  },
  {
   "cell_type": "code",
   "execution_count": 15,
   "id": "9e09bc56",
   "metadata": {},
   "outputs": [
    {
     "name": "stdout",
     "output_type": "stream",
     "text": [
      "El valor f(0) es: 0.18270690829168224\n"
     ]
    }
   ],
   "source": [
    "print(\"El valor f(0) es:\", popt[1])"
   ]
  },
  {
   "cell_type": "code",
   "execution_count": 16,
   "id": "e9cc5ca3",
   "metadata": {},
   "outputs": [
    {
     "data": {
      "text/plain": [
       "0.9316416262309236"
      ]
     },
     "execution_count": 16,
     "metadata": {},
     "output_type": "execute_result"
    }
   ],
   "source": [
    "r2 = 1-np.sum((data_-y_new)**2)/np.sum((y_new-y_new.mean())**2)\n",
    "r2"
   ]
  },
  {
   "cell_type": "markdown",
   "id": "4e79c3af",
   "metadata": {},
   "source": [
    "## (b) Regresión polinomial"
   ]
  },
  {
   "cell_type": "code",
   "execution_count": 17,
   "id": "db850bd0",
   "metadata": {},
   "outputs": [],
   "source": [
    "matrix = []\n",
    "for i in range(len(x)):\n",
    "    matrix.append([1,x[i],x[i]**2,x[i]**3,x[i]**4,x[i]**5])"
   ]
  },
  {
   "cell_type": "code",
   "execution_count": 18,
   "id": "1d87cb52",
   "metadata": {},
   "outputs": [
    {
     "data": {
      "text/plain": [
       "matrix([[1.00000000e+00, 6.58588054e-02, 4.33738225e-03, 2.85654814e-04,\n",
       "         1.88128848e-05, 1.23899412e-06]])"
      ]
     },
     "execution_count": 18,
     "metadata": {},
     "output_type": "execute_result"
    }
   ],
   "source": [
    "A = np.matrix(matrix)\n",
    "A[0]"
   ]
  },
  {
   "cell_type": "code",
   "execution_count": 19,
   "id": "81ed4b47",
   "metadata": {},
   "outputs": [],
   "source": [
    "matrix_y = np.array([y]).reshape(-1,1)"
   ]
  },
  {
   "cell_type": "code",
   "execution_count": 20,
   "id": "e6625e3e",
   "metadata": {},
   "outputs": [],
   "source": [
    "b = np.matrix(matrix_y)"
   ]
  },
  {
   "cell_type": "code",
   "execution_count": 21,
   "id": "38c9f838",
   "metadata": {},
   "outputs": [],
   "source": [
    "def L(x,A,b):\n",
    "    # (b_pred-b_obs)^2\n",
    "    # m es el numero de datos\n",
    "    # n es el numero de parametros == 13\n",
    "    m,n = A.shape\n",
    "    X = np.matrix(x).T\n",
    "    DeltaB=(A*X-b) # b gorro - b\n",
    "    return (DeltaB.T*DeltaB)[0,0]/m # matriz 1x1"
   ]
  },
  {
   "cell_type": "code",
   "execution_count": 22,
   "id": "1725ce89",
   "metadata": {},
   "outputs": [],
   "source": [
    "res1 = sp.optimize.minimize(fun=L,x0=np.zeros(A.shape[1]), args = (A,b), tol=1e-10)"
   ]
  },
  {
   "cell_type": "code",
   "execution_count": 23,
   "id": "2b611e05",
   "metadata": {},
   "outputs": [
    {
     "name": "stdout",
     "output_type": "stream",
     "text": [
      "Las constantes B_0,B_1,B_2,B_3,B_4,B_5 en el orden correspondiente son: [ 0.35735803 -0.84260309  3.78478572 -3.00338579  0.85844424 -0.08305811]\n"
     ]
    }
   ],
   "source": [
    "print(\"Las constantes B_0,B_1,B_2,B_3,B_4,B_5 en el orden correspondiente son:\",res1['x'])"
   ]
  },
  {
   "cell_type": "code",
   "execution_count": 24,
   "id": "8a490649",
   "metadata": {},
   "outputs": [],
   "source": [
    "puntos = np.linspace(0,4,100)"
   ]
  },
  {
   "cell_type": "code",
   "execution_count": 25,
   "id": "fe8b106f",
   "metadata": {},
   "outputs": [],
   "source": [
    "def fun1_(a,b,c,d,e,f,x):\n",
    "    return a*x**5 + b*x**4 + c*x**3 + d*x**2 + e*x + f"
   ]
  },
  {
   "cell_type": "code",
   "execution_count": 26,
   "id": "7cdd646d",
   "metadata": {},
   "outputs": [],
   "source": [
    "y_data1 = fun1_(res1['x'][5],res1['x'][4],res1['x'][3],res1['x'][2],res1['x'][1],res1['x'][0],puntos)"
   ]
  },
  {
   "cell_type": "code",
   "execution_count": 27,
   "id": "bd4999c5",
   "metadata": {},
   "outputs": [
    {
     "data": {
      "text/plain": [
       "100"
      ]
     },
     "execution_count": 27,
     "metadata": {},
     "output_type": "execute_result"
    }
   ],
   "source": [
    "len(y)"
   ]
  },
  {
   "cell_type": "code",
   "execution_count": 28,
   "id": "a7b885e7",
   "metadata": {},
   "outputs": [
    {
     "data": {
      "text/plain": [
       "0.9111078914676148"
      ]
     },
     "execution_count": 28,
     "metadata": {},
     "output_type": "execute_result"
    }
   ],
   "source": [
    "r2 = 1-np.sum((y_data1-y)**2)/np.sum((y-y.mean())**2)\n",
    "r2"
   ]
  },
  {
   "cell_type": "code",
   "execution_count": 29,
   "id": "3185d3b1",
   "metadata": {},
   "outputs": [
    {
     "name": "stdout",
     "output_type": "stream",
     "text": [
      "Cuando f(0) el resultado obtendio es: 0.3573580251551316\n"
     ]
    }
   ],
   "source": [
    "print(\"Cuando f(0) el resultado obtendio es:\", res1['x'][0])"
   ]
  },
  {
   "cell_type": "markdown",
   "id": "e6686428",
   "metadata": {},
   "source": [
    "Es importante mencionar que al realizar una regresion polinomica vamos a obtener resultados mas precisos. Sabemos analiticamente que el punto de corte con el eje y debe ser aproximademente 0,2. De esta forma, el resultado obtenido es un poco mas preciso con respecto a la regresion lineal pero el modelo polinomico de grado 5 aun sigue siendo algo impreciso"
   ]
  },
  {
   "cell_type": "markdown",
   "id": "b5d50318",
   "metadata": {},
   "source": [
    "## (c) Regresión polinomial Exacta"
   ]
  },
  {
   "cell_type": "code",
   "execution_count": 6,
   "id": "269080a7",
   "metadata": {},
   "outputs": [],
   "source": [
    "x_newbase2 = np.array(x).reshape(-1,1)"
   ]
  },
  {
   "cell_type": "code",
   "execution_count": 7,
   "id": "2e9f2a57",
   "metadata": {},
   "outputs": [],
   "source": [
    "y_newbase2 = np.array(y)"
   ]
  },
  {
   "cell_type": "code",
   "execution_count": 8,
   "id": "4eb603ff",
   "metadata": {},
   "outputs": [],
   "source": [
    "P = np.array([np.ones([len(x), 1]),x_newbase2 ,x_newbase2**2, x_newbase2**3, x_newbase2**4, x_newbase2**5]).reshape(6, len(x)).T"
   ]
  },
  {
   "cell_type": "code",
   "execution_count": 10,
   "id": "a7bb0912",
   "metadata": {},
   "outputs": [
    {
     "data": {
      "text/plain": [
       "array([[0.06585881],\n",
       "       [0.02093073],\n",
       "       [0.07031212],\n",
       "       [0.20616556],\n",
       "       [0.28657196],\n",
       "       [0.27096854],\n",
       "       [0.19957703],\n",
       "       [0.29455413],\n",
       "       [0.26240308],\n",
       "       [0.33728572],\n",
       "       [0.4999516 ],\n",
       "       [0.56632758],\n",
       "       [0.53351561],\n",
       "       [0.52050379],\n",
       "       [0.4341235 ],\n",
       "       [0.61297735],\n",
       "       [0.54045169],\n",
       "       [0.58791458],\n",
       "       [0.65418762],\n",
       "       [0.59973738],\n",
       "       [0.64327662],\n",
       "       [0.79594304],\n",
       "       [0.74257997],\n",
       "       [0.76763688],\n",
       "       [0.85442627],\n",
       "       [0.90891591],\n",
       "       [0.98562327],\n",
       "       [0.95099631],\n",
       "       [1.0602925 ],\n",
       "       [1.20330968],\n",
       "       [1.1279353 ],\n",
       "       [1.1567111 ],\n",
       "       [1.26668196],\n",
       "       [1.36000017],\n",
       "       [1.29863443],\n",
       "       [1.50230164],\n",
       "       [1.50562639],\n",
       "       [1.43988698],\n",
       "       [1.40932438],\n",
       "       [1.4547854 ],\n",
       "       [1.53861099],\n",
       "       [1.74303808],\n",
       "       [1.63129763],\n",
       "       [1.74347099],\n",
       "       [1.71939745],\n",
       "       [1.83746583],\n",
       "       [1.78364346],\n",
       "       [1.79867609],\n",
       "       [1.84289189],\n",
       "       [1.8483764 ],\n",
       "       [1.93387166],\n",
       "       [2.09125265],\n",
       "       [2.03820061],\n",
       "       [2.02359864],\n",
       "       [2.0902738 ],\n",
       "       [2.0449949 ],\n",
       "       [2.20199813],\n",
       "       [2.17991666],\n",
       "       [2.24415757],\n",
       "       [2.35430162],\n",
       "       [2.3127741 ],\n",
       "       [2.24683712],\n",
       "       [2.32894996],\n",
       "       [2.34474379],\n",
       "       [2.39944378],\n",
       "       [2.41653076],\n",
       "       [2.52228262],\n",
       "       [2.6262605 ],\n",
       "       [2.60474249],\n",
       "       [2.70034582],\n",
       "       [2.92385326],\n",
       "       [2.89756455],\n",
       "       [3.04847795],\n",
       "       [3.08296186],\n",
       "       [3.03961595],\n",
       "       [3.11850711],\n",
       "       [3.16962498],\n",
       "       [3.12666503],\n",
       "       [3.13513764],\n",
       "       [3.31078085],\n",
       "       [3.2422266 ],\n",
       "       [3.35073731],\n",
       "       [3.34782943],\n",
       "       [3.43266061],\n",
       "       [3.45712348],\n",
       "       [3.50702511],\n",
       "       [3.5302859 ],\n",
       "       [3.63379892],\n",
       "       [3.53017745],\n",
       "       [3.68293872],\n",
       "       [3.75957114],\n",
       "       [3.73331405],\n",
       "       [3.75135664],\n",
       "       [3.79104106],\n",
       "       [4.00656698],\n",
       "       [3.92261297],\n",
       "       [3.89847332],\n",
       "       [3.95211126],\n",
       "       [3.93921079],\n",
       "       [3.98712003]])"
      ]
     },
     "execution_count": 10,
     "metadata": {},
     "output_type": "execute_result"
    }
   ],
   "source": [
    "x_newbase2"
   ]
  },
  {
   "cell_type": "code",
   "execution_count": 33,
   "id": "7036debb",
   "metadata": {},
   "outputs": [],
   "source": [
    "v = np.linalg.inv(P.T @ P) @ P.T @ y"
   ]
  },
  {
   "cell_type": "code",
   "execution_count": 34,
   "id": "467d1535",
   "metadata": {},
   "outputs": [],
   "source": [
    "def fun1(a,b,c,d,e,f,x):\n",
    "    return a*x**5 + b*x**4 + c*x**3 + d*x**2 + e*x + f"
   ]
  },
  {
   "cell_type": "code",
   "execution_count": 35,
   "id": "c077bb7a",
   "metadata": {},
   "outputs": [],
   "source": [
    "y_data = fun1(v[5],v[4],v[3],v[2],v[1],v[0],puntos)"
   ]
  },
  {
   "cell_type": "code",
   "execution_count": 36,
   "id": "dc9a8fcf",
   "metadata": {},
   "outputs": [
    {
     "data": {
      "text/plain": [
       "<matplotlib.collections.PathCollection at 0x184554cfe50>"
      ]
     },
     "execution_count": 36,
     "metadata": {},
     "output_type": "execute_result"
    },
    {
     "data": {
      "image/png": "[encoded data removed]",
      "text/plain": [
       "<Figure size 432x288 with 1 Axes>"
      ]
     },
     "metadata": {
      "needs_background": "light"
     },
     "output_type": "display_data"
    }
   ],
   "source": [
    "plt.plot(puntos,y_data,color='r',linewidth=3.0)\n",
    "plt.scatter(x,y)"
   ]
  },
  {
   "cell_type": "code",
   "execution_count": 37,
   "id": "4d1a7f7d",
   "metadata": {},
   "outputs": [
    {
     "name": "stdout",
     "output_type": "stream",
     "text": [
      "Las constantes B_0,B_1,B_2,B_3,B_4,B_5 en el orden correspondiente son: [ 0.35644669 -0.83588269  3.77276401 -2.99526012  0.85614705 -0.08282854]\n"
     ]
    }
   ],
   "source": [
    "print(\"Las constantes B_0,B_1,B_2,B_3,B_4,B_5 en el orden correspondiente son:\",v)"
   ]
  },
  {
   "cell_type": "code",
   "execution_count": 38,
   "id": "9a07af65",
   "metadata": {},
   "outputs": [
    {
     "name": "stdout",
     "output_type": "stream",
     "text": [
      "Cuando f(0) el resultado obtendio es: 0.3564466850007825\n"
     ]
    }
   ],
   "source": [
    "print(\"Cuando f(0) el resultado obtendio es:\", v[0])"
   ]
  },
  {
   "cell_type": "markdown",
   "id": "7145c95f",
   "metadata": {},
   "source": [
    "Comparando los resultados obtenidos con respecto a los a la regresion polonomica del punto b) se puede denotar que la varianza entre datos es bastante pequeña dado que la diferencia esta en la 5 cifra decimal. Así, se puede concluir que la regresion polinomica con respecto a la exacta se encuentran bien. Cabe mencionar que el modelado polinomico no es del todo preciso para ajustar los datos"
   ]
  },
  {
   "cell_type": "code",
   "execution_count": 39,
   "id": "f6568176",
   "metadata": {},
   "outputs": [],
   "source": [
    "predicciones = np.array(P @ v).flatten()"
   ]
  },
  {
   "cell_type": "code",
   "execution_count": 40,
   "id": "bd91bc88",
   "metadata": {},
   "outputs": [],
   "source": [
    "observaciones = np.array(y_newbase2).flatten()\n",
    "bbarrita = observaciones.mean()"
   ]
  },
  {
   "cell_type": "code",
   "execution_count": 41,
   "id": "b16600ad",
   "metadata": {},
   "outputs": [],
   "source": [
    "r2 = 1-(np.linalg.norm(predicciones - observaciones)**2)/(np.linalg.norm(observaciones - bbarrita)**2)"
   ]
  },
  {
   "cell_type": "code",
   "execution_count": 42,
   "id": "519d9538",
   "metadata": {},
   "outputs": [
    {
     "data": {
      "text/plain": [
       "0.9199225041318263"
      ]
     },
     "execution_count": 42,
     "metadata": {},
     "output_type": "execute_result"
    }
   ],
   "source": [
    "r2"
   ]
  },
  {
   "cell_type": "markdown",
   "id": "afa67649",
   "metadata": {},
   "source": [
    "## (d) Regresión a un modelo teórico"
   ]
  },
  {
   "cell_type": "code",
   "execution_count": 43,
   "id": "0dab0503",
   "metadata": {},
   "outputs": [],
   "source": [
    "def f(param,x):\n",
    "    return (param[0])/((x-param[1])**2 + param[2])**param[3]"
   ]
  },
  {
   "cell_type": "code",
   "execution_count": 44,
   "id": "66c9db8d",
   "metadata": {},
   "outputs": [],
   "source": [
    "def Lfit(parametros,x,y): # funcion de costo MSE (No es la mejor!)\n",
    "    # L = promedio sobre todos los puntos (f(a,b,c;x)-y)^2\n",
    "    # parametros np.array([a,b,c])\n",
    "    deltaY=f(parametros,x) - y\n",
    "    return np.dot(deltaY,deltaY)/len(y)"
   ]
  },
  {
   "cell_type": "code",
   "execution_count": 45,
   "id": "3b7df0d6",
   "metadata": {},
   "outputs": [],
   "source": [
    "e=1e-8"
   ]
  },
  {
   "cell_type": "code",
   "execution_count": 46,
   "id": "db0d32ad",
   "metadata": {},
   "outputs": [],
   "source": [
    "res2 = sp.optimize.minimize(fun=Lfit, x0=np.array([0,0,1,0]), args = (x,y), method='L-BFGS-B', tol=e)"
   ]
  },
  {
   "cell_type": "code",
   "execution_count": 47,
   "id": "d2994fab",
   "metadata": {},
   "outputs": [
    {
     "name": "stdout",
     "output_type": "stream",
     "text": [
      "a, b, c, omega son igual a: [0.68739888 1.39239105 0.49564803 0.936637  ]\n"
     ]
    }
   ],
   "source": [
    "print(\"a, b, c, omega son igual a:\", res2['x'])"
   ]
  },
  {
   "cell_type": "code",
   "execution_count": 48,
   "id": "d74fa574",
   "metadata": {},
   "outputs": [],
   "source": [
    "y1_pred = f(res2.x,x)"
   ]
  },
  {
   "cell_type": "code",
   "execution_count": 49,
   "id": "aaa844ad",
   "metadata": {},
   "outputs": [
    {
     "data": {
      "text/plain": [
       "[<matplotlib.lines.Line2D at 0x184555457c0>]"
      ]
     },
     "execution_count": 49,
     "metadata": {},
     "output_type": "execute_result"
    },
    {
     "data": {
      "image/png": "[encoded data removed]",
      "text/plain": [
       "<Figure size 432x288 with 1 Axes>"
      ]
     },
     "metadata": {
      "needs_background": "light"
     },
     "output_type": "display_data"
    }
   ],
   "source": [
    "plt.scatter(x,y)\n",
    "plt.plot(x,y1_pred,color = 'r', linewidth=3.0)"
   ]
  },
  {
   "cell_type": "code",
   "execution_count": 50,
   "id": "c536235a",
   "metadata": {},
   "outputs": [],
   "source": [
    "y_cero = f(res2.x,0)"
   ]
  },
  {
   "cell_type": "code",
   "execution_count": 51,
   "id": "2a0d44fa",
   "metadata": {},
   "outputs": [
    {
     "name": "stdout",
     "output_type": "stream",
     "text": [
      "f(0) es igual a: 0.2987443428132761\n"
     ]
    }
   ],
   "source": [
    "print(\"f(0) es igual a:\", y_cero)"
   ]
  },
  {
   "cell_type": "markdown",
   "id": "497f00cd",
   "metadata": {},
   "source": [
    "Comparando los resultados anteriores el modelado teorico se puede concluir que el modelado linear muy impreciso en comparacion a el polinomico. Por otro lado, la diferencia entre el punto de corte del modelo teorico y polinomico no es muy grande, aunque si puede observar que la diferencia entre ambos es significativa"
   ]
  }
 ],
 "metadata": {
  "kernelspec": {
   "display_name": "Python 3",
   "language": "python",
   "name": "python3"
  },
  "language_info": {
   "codemirror_mode": {
    "name": "ipython",
    "version": 3
   },
   "file_extension": ".py",
   "mimetype": "text/x-python",
   "name": "python",
   "nbconvert_exporter": "python",
   "pygments_lexer": "ipython3",
   "version": "3.8.8"
  }
 },
 "nbformat": 4,
 "nbformat_minor": 5
}
