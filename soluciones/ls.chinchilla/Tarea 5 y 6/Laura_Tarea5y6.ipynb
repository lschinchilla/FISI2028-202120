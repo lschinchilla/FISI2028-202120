{
 "cells": [
  {
   "cell_type": "code",
   "execution_count": 1,
   "id": "c9d8eaeb-75b4-4e76-b730-fe7bc196d3d9",
   "metadata": {},
   "outputs": [
    {
     "name": "stdout",
     "output_type": "stream",
     "text": [
      "Populating the interactive namespace from numpy and matplotlib\n"
     ]
    }
   ],
   "source": [
    "%pylab inline"
   ]
  },
  {
   "cell_type": "code",
   "execution_count": 2,
   "id": "5c3d0cd1-fe1c-4b4d-9c5f-7c60bb7cd4c0",
   "metadata": {},
   "outputs": [],
   "source": [
    "import scipy as sp\n",
    "from scipy import integrate"
   ]
  },
  {
   "cell_type": "code",
   "execution_count": 3,
   "id": "09297dd5-bd65-40b7-9669-92586bf0dc39",
   "metadata": {},
   "outputs": [],
   "source": [
    "## Punto 1"
   ]
  },
  {
   "cell_type": "markdown",
   "id": "74f52f02-0f61-4a06-8275-b4d8734faff3",
   "metadata": {},
   "source": [
    "Para expresar la ecuacion de difusion en cordenadas esfericas primero es importante conocer como se expresa en cordenadas esfericas. Dado que la ecuacion de difusion es la forma general de la ecuacion, y su diferencia se encuentra relacionada con el coeficiente de difusion, en cordenadas cartesianas es igual a\n",
    "\n",
    "$$ \\frac{\\partial }{\\partial_x}(\\frac{\\partial_\\tau  }{\\partial_x})+\\frac{\\partial }{\\partial_y}(\\frac{\\partial_\\tau  }{\\partial_y})+\\frac{\\partial }{\\partial_z}(\\frac{\\partial_\\tau  }{\\partial_z})= - \\frac{1}{D} $$\n",
    "\n",
    "Cabe aclarar que estamos usando la ecuacion de difusion dependiente de la posicion y el tiempo medio. De esta forma, vamos a usar el siguiente factor para pasar la ecuacion a cordenadas esfericas\n",
    "\n",
    "$$ \\left ( \\frac{r^{2}}{r^{2}}, \\frac{sin(\\theta )}{r^{2}sin(\\theta )}, \\frac{1}{r^{2}sin^{2}(\\theta )}  \\right ) $$\n",
    "\n",
    "Sustituyendo todo en la ecuacion de calor, tenemos que \n",
    "\n",
    "$$   \\frac{1}{r^{2}} \\frac{\\partial }{\\partial_r}(r^{2} \\frac{\\partial_\\tau  }{\\partial_r})+ \\frac{1}{r^{2}sin(\\theta)} \\frac{\\partial }{\\partial_\\theta}(sin(\\theta)\\frac{ \\partial_\\tau  }{\\partial_\\theta})+\\frac{1}{r^{2}sin^{2}(\\theta)}\\frac{\\partial^{2}\\tau }{\\partial_\\phi^{2}}= - \\frac{1}{D}  $$\n",
    "\n",
    "Dado que no nos importa la direccion, solo el radio de las particulas, los diferenciales dependientes de angulos tienden a cero. De esta forma nos queda la ecuacion como\n",
    "\n",
    "$$  \\frac{1}{r^{2}} \\frac{\\partial }{\\partial_r}(r^{2} \\frac{\\partial_\\tau  }{\\partial_r}) = - \\frac{1}{D} $$\n",
    "\n",
    "Simplificando la ecuacion \n",
    "\n",
    "$$  \\frac{1}{r^{2}} \\left ( 2r\\frac{\\partial_\\tau }{\\partial_r} + r^{2}\\frac{\\partial^{2}_\\tau }{\\partial_r^{2}} \\right ) = - \\frac{1}{D} $$\n",
    "$$ \\frac{2}{r}\\frac{\\partial_\\tau }{\\partial_r} + \\frac{\\partial^{2}_\\tau }{\\partial_r^{2}}  = - \\frac{1}{D} $$\n",
    "$$  \\frac{2}{r}\\frac{\\partial_\\tau }{\\partial_r} + \\frac{\\partial^{2}_\\tau }{\\partial_r^{2}} + \\frac{1}{D} = 0  $$\n",
    "$$ \\frac{\\partial^{2}_\\tau }{\\partial_r^{2}}+ \\frac{2}{r}\\frac{\\partial_\\tau }{\\partial_r} + \\frac{1}{D} = 0  $$"
   ]
  },
  {
   "cell_type": "code",
   "execution_count": 4,
   "id": "e782d73f-5f7d-42d6-abdb-34a702008c34",
   "metadata": {},
   "outputs": [],
   "source": [
    "## Punto 2"
   ]
  },
  {
   "cell_type": "code",
   "execution_count": 5,
   "id": "d41325dc-25aa-4f0d-a211-84b92efa41bc",
   "metadata": {},
   "outputs": [],
   "source": [
    "Kb = 4.05*(10**-21)\n",
    "η = 100\n",
    "a = 1e-7\n",
    "D = (Kb)/(6*pi*η*a)\n",
    "D_ = 1/D\n",
    "R = 5e-6"
   ]
  },
  {
   "cell_type": "code",
   "execution_count": 6,
   "id": "1255a9ca-6f84-49ce-bd99-28a2ac77a3b4",
   "metadata": {},
   "outputs": [],
   "source": [
    "N = 200\n",
    "dr = R/N\n",
    "r = np.arange(0,N*dr,dr)"
   ]
  },
  {
   "cell_type": "code",
   "execution_count": 7,
   "id": "f1c5eebf-96e3-4d5e-9cdd-faaa69f067a1",
   "metadata": {},
   "outputs": [],
   "source": [
    "x0 = 0\n",
    "xN = 0"
   ]
  },
  {
   "cell_type": "code",
   "execution_count": 8,
   "id": "413ee604-0983-470e-b1e4-da3a16660e54",
   "metadata": {},
   "outputs": [],
   "source": [
    "M = np.matrix([np.array([(r[i]-dr if j == i-1 and i > 0 else 0)for j in range(N)])for i in range(N) ]) # primera fila\n",
    "M += np.matrix([np.array([(-2*r[i] if j == i else 0)for j in range(N)])for i in range(N) ]) # primera fila\n",
    "M += np.matrix([np.array([(r[i]+dr if j == i+1 and i < N-1 else 0)for j in range(N)])for i in range(N) ]) # última fila"
   ]
  },
  {
   "cell_type": "code",
   "execution_count": 9,
   "id": "e0242c4b-8bff-496b-9af7-23611ae4ce10",
   "metadata": {},
   "outputs": [],
   "source": [
    "M[0,:] = np.zeros(N)\n",
    "M[0,0] = 1\n",
    "M[0,1] = -1\n",
    "M[-1, -1] = 1"
   ]
  },
  {
   "cell_type": "code",
   "execution_count": 10,
   "id": "3410c4a7-1325-49db-8cc5-6abab4776313",
   "metadata": {},
   "outputs": [],
   "source": [
    "b = (-r*(dr**2)/D_)\n",
    "b[0] = x0\n",
    "b[-1] = xN\n",
    "b = np.matrix(b).T"
   ]
  },
  {
   "cell_type": "code",
   "execution_count": 11,
   "id": "48cdcf28-5888-4cb7-8ffd-2ac0872766e4",
   "metadata": {},
   "outputs": [],
   "source": [
    "X = np.array((np.linalg.inv(M)*b).T).flatten()"
   ]
  },
  {
   "cell_type": "code",
   "execution_count": 12,
   "id": "3309b368-3b4a-48db-b252-543c8127d766",
   "metadata": {},
   "outputs": [],
   "source": [
    "r_ = np.arange(0,5,5/N)"
   ]
  },
  {
   "cell_type": "code",
   "execution_count": 13,
   "id": "1d5e40d4-f414-4ca1-b28d-207bdcc0dacb",
   "metadata": {},
   "outputs": [
    {
     "data": {
      "text/plain": [
       "[<matplotlib.lines.Line2D at 0x7f25c5dd0790>]"
      ]
     },
     "execution_count": 13,
     "metadata": {},
     "output_type": "execute_result"
    },
    {
     "data": {
      "image/png": "[encoded data removed]",
      "text/plain": [
       "<Figure size 432x288 with 1 Axes>"
      ]
     },
     "metadata": {
      "needs_background": "light"
     },
     "output_type": "display_data"
    }
   ],
   "source": [
    "plt.plot(r_, X)"
   ]
  },
  {
   "cell_type": "code",
   "execution_count": 14,
   "id": "ce4deea1-bfc8-4dad-a8af-a7074aab26f8",
   "metadata": {},
   "outputs": [],
   "source": [
    "## 3 punto"
   ]
  },
  {
   "cell_type": "code",
   "execution_count": 15,
   "id": "20a65451-1445-4b3a-a725-2958720b2e68",
   "metadata": {},
   "outputs": [],
   "source": [
    "V = (4/3)*pi*R**2"
   ]
  },
  {
   "cell_type": "code",
   "execution_count": 16,
   "id": "0d0943d7-705c-4f76-ba41-e211e42aa2fa",
   "metadata": {},
   "outputs": [],
   "source": [
    "integral = sp.integrate. simpson(X*r**2 *4*pi/V,r)"
   ]
  },
  {
   "cell_type": "code",
   "execution_count": 17,
   "id": "37ec80db-5dd0-4f27-819c-53c48b2ad508",
   "metadata": {},
   "outputs": [
    {
     "name": "stdout",
     "output_type": "stream",
     "text": [
      "El promedio de la integral esta dada por:  1.7461754052687266e-34\n"
     ]
    }
   ],
   "source": [
    "print(\"El promedio de la integral esta dada por: \",integral)"
   ]
  },
  {
   "cell_type": "code",
   "execution_count": 18,
   "id": "38ad882a-99c5-4c50-8bd8-ab9199869b12",
   "metadata": {},
   "outputs": [],
   "source": [
    "## 4 punto "
   ]
  },
  {
   "cell_type": "code",
   "execution_count": 22,
   "id": "65ceebd7-36a8-4f2d-a009-84a058d02d44",
   "metadata": {},
   "outputs": [
    {
     "ename": "AssertionError",
     "evalue": "",
     "output_type": "error",
     "traceback": [
      "\u001b[0;31m---------------------------------------------------------------------------\u001b[0m",
      "\u001b[0;31mAssertionError\u001b[0m                            Traceback (most recent call last)",
      "\u001b[0;32m/tmp/ipykernel_103/1288277117.py\u001b[0m in \u001b[0;36m<module>\u001b[0;34m\u001b[0m\n\u001b[1;32m      7\u001b[0m \u001b[0mt\u001b[0m \u001b[0;34m=\u001b[0m \u001b[0mnp\u001b[0m\u001b[0;34m.\u001b[0m\u001b[0marange\u001b[0m\u001b[0;34m(\u001b[0m\u001b[0;36m0\u001b[0m\u001b[0;34m,\u001b[0m\u001b[0mT\u001b[0m\u001b[0;34m,\u001b[0m\u001b[0mdt\u001b[0m\u001b[0;34m)\u001b[0m\u001b[0;34m\u001b[0m\u001b[0;34m\u001b[0m\u001b[0m\n\u001b[1;32m      8\u001b[0m \u001b[0malpha\u001b[0m \u001b[0;34m=\u001b[0m \u001b[0mD\u001b[0m\u001b[0;34m*\u001b[0m\u001b[0mdt\u001b[0m\u001b[0;34m/\u001b[0m\u001b[0mdr\u001b[0m\u001b[0;34m**\u001b[0m\u001b[0;36m2\u001b[0m\u001b[0;34m\u001b[0m\u001b[0;34m\u001b[0m\u001b[0m\n\u001b[0;32m----> 9\u001b[0;31m \u001b[0;32massert\u001b[0m \u001b[0malpha\u001b[0m \u001b[0;34m<\u001b[0m \u001b[0;36m1\u001b[0m\u001b[0;34m/\u001b[0m\u001b[0;36m12\u001b[0m\u001b[0;34m\u001b[0m\u001b[0;34m\u001b[0m\u001b[0m\n\u001b[0m\u001b[1;32m     10\u001b[0m print('Resumen:'\n\u001b[1;32m     11\u001b[0m      \u001b[0;34mf'\\n  alpha={alpha}'\u001b[0m\u001b[0;34m\u001b[0m\u001b[0;34m\u001b[0m\u001b[0m\n",
      "\u001b[0;31mAssertionError\u001b[0m: "
     ]
    }
   ],
   "source": [
    "L = 1 # distancia de 0 a 1\n",
    "T = 2 # tiempo de 0 a 2\n",
    "N = 50\n",
    "x = np.arange(0,R,dr)\n",
    "D = 1/6\n",
    "dt = 1e-4\n",
    "t = np.arange(0,T,dt)\n",
    "alpha = D*dt/dr**2\n",
    "assert alpha < 1/12\n",
    "print('Resumen:'\n",
    "     f'\\n  alpha={alpha}'\n",
    "     f'\\n  dx={dr}'\n",
    "     f'\\n  dt={dt}')\n"
   ]
  },
  {
   "cell_type": "code",
   "execution_count": null,
   "id": "0ade8a70-3403-4988-be69-11ce7f0122b8",
   "metadata": {},
   "outputs": [],
   "source": []
  }
 ],
 "metadata": {
  "kernelspec": {
   "display_name": "Python 3 (ipykernel)",
   "language": "python",
   "name": "python3"
  },
  "language_info": {
   "codemirror_mode": {
    "name": "ipython",
    "version": 3
   },
   "file_extension": ".py",
   "mimetype": "text/x-python",
   "name": "python",
   "nbconvert_exporter": "python",
   "pygments_lexer": "ipython3",
   "version": "3.7.12"
  }
 },
 "nbformat": 4,
 "nbformat_minor": 5
}
